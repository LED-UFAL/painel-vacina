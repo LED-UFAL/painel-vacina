{
 "cells": [
  {
   "cell_type": "markdown",
   "id": "5070a515",
   "metadata": {},
   "source": [
    "# Validação dos dados - Vacinação"
   ]
  },
  {
   "cell_type": "code",
   "execution_count": null,
   "id": "9e927181",
   "metadata": {},
   "outputs": [],
   "source": [
    "import os\n",
    "import json\n",
    "import datetime\n",
    "import pandas"
   ]
  },
  {
   "cell_type": "code",
   "execution_count": null,
   "id": "518f5d25",
   "metadata": {},
   "outputs": [],
   "source": [
    "AUTHOR_NAME = \"\"  # Insira seu nome aqui."
   ]
  },
  {
   "cell_type": "markdown",
   "id": "f7344d7c",
   "metadata": {},
   "source": [
    "# Descrição e objetivos\n",
    "\n",
    "O objetivo desse notebook é fornecer uma estrutra básica e comum a todos do codigo fonte que será usado para tratar e processar os dados que irão para o painel de vacinas. O objetivo é que cada autor complete o código que falta para tratar e processar os dados de maneira independenete, porém respeitando as restrições estabelecidas (como formato da saída, assinatura da função etc ...) para que possa ser possível comparar as diferentes implementações e detectar possíveis erros no processo de validação.\n",
    "    \n",
    "\n",
    "O notebook está separados em duas etapas principais:\n",
    "\n",
    "1. __Tratamento dos dados__: Etapa responsável por ler o dado bruto e tratá-lo, gerando ao final do processo um dataframe que tem __sua estrutura pré-estabelecida__.\n",
    "\n",
    "2. __Processamento dos dados tratados__: Nessa etapa, o dataframe tratado no passo anterior tem seus dados processados o que resulta na geração de uma __série temporal__ (ou outros __indicadores gerais__) para cada tipo de vacina."
   ]
  },
  {
   "cell_type": "markdown",
   "id": "60ce51d6",
   "metadata": {},
   "source": [
    "# Rotina de tratamento dos dados\n",
    "\n",
    "O objetivo de implementação dessa rotina será:\n",
    "\n",
    "1. Ler o dado bruto, especificando o caminho da tabela em `CSV_PATH`.\n",
    "2. Tratar o dado bruto, garantindo que:\n",
    "    * As colunas mantidas serão aquelas contidas na lista `COLUMNS_TO_KEEP`.\n",
    "    * A ordem das colunas na tabela final deve ser a mesma ordem que aparecem na lista `COLUMNS_TO_KEEP`.\n",
    "    * Os valores deve ser ordenados pela _hash_ `paciente_id`.\n",
    "    * Quaisquer registros removidos devido à anomalias deve ser contabilizado em `anomaly_dict`, exemplo: `{\"Registros sem data de primeira dose\": 1000}`\n",
    "3. Somente registros do estado `UF` e município `MUNICIPIO` serão mantidos."
   ]
  },
  {
   "cell_type": "code",
   "execution_count": null,
   "id": "f77801ae",
   "metadata": {},
   "outputs": [],
   "source": [
    "CSV_PATH = \"\"\n",
    "\n",
    "COLUMNS_TO_KEEP = [\n",
    "    \"paciente_id\",\n",
    "    \"paciente_idade\",\n",
    "    \"paciente_enumSexoBiologico\",\n",
    "    \"paciente_racaCor_valor\",\n",
    "    \"paciente_endereco_cep\",\n",
    "    \"estabelecimento_municipio_codigo\",\n",
    "    \"estabelecimento_municipio_nome\",\n",
    "    \"estabelecimento_uf\",\n",
    "    \"vacina_grupoAtendimento_nome\",\n",
    "    \"vacina_categoria_nome\",\n",
    "    \"vacina_lote\",\n",
    "    \"vacina_dataAplicacao\",\n",
    "    \"vacina_descricao_dose\",\n",
    "    \"vacina_nome\",\n",
    "    \"sistema_origem\",\n",
    "    \"data_importacao_rnds\"\n",
    "]\n",
    "\n",
    "UF = \"AL\"\n",
    "\n",
    "MUNICIPIO = \"MACEIO\""
   ]
  },
  {
   "cell_type": "markdown",
   "id": "e5ae8e47",
   "metadata": {},
   "source": [
    "Definindo a estrutura básica da rotina de tratamento dos dados (completar TODO)."
   ]
  },
  {
   "cell_type": "code",
   "execution_count": null,
   "id": "42b442b2",
   "metadata": {},
   "outputs": [],
   "source": [
    "def treat_source_data(dataframe):\n",
    "    \n",
    "    anomaly_dict = {}\n",
    "    \n",
    "    dataframe = dataframe[COLUMNS_TO_KEEP]\n",
    "    dataframe.columns = COLUMNS_TO_KEEP\n",
    "    \n",
    "    # ===============================================\n",
    "    # TODO \n",
    "    # ===============================================\n",
    "    \n",
    "    dataframe = dataframe.sort_values(by=\"paciente_id\").reset_index(drop=True)\n",
    "    \n",
    "    return dataframe, anomaly_dict"
   ]
  },
  {
   "cell_type": "markdown",
   "id": "bb70fe6a",
   "metadata": {},
   "source": [
    "Na célula a seguir filtramos o dataframe pelo estado e município antes de passarmos para o rotina de tratamento. Ao final do processo o resultado é salvo na pasta `validacao_dados/UF/MUNICIPIO` com o nome `dado-tratado-AUTHOR_NAME.csv`."
   ]
  },
  {
   "cell_type": "code",
   "execution_count": null,
   "id": "7b830f5a",
   "metadata": {},
   "outputs": [],
   "source": [
    "DATA_VAL_DIR = \"validacao_dados\""
   ]
  },
  {
   "cell_type": "code",
   "execution_count": null,
   "id": "cff06d66",
   "metadata": {},
   "outputs": [],
   "source": [
    "source_df = pandas.read_csv(CSV_PATH, sep=\";\")\n",
    "\n",
    "orig_shape = source_df.shape\n",
    "\n",
    "source_df = source_df.dropna(subset=[\"estabelecimento_municipio_nome\", \"estabelecimento_uf\"], how=\"any\")\n",
    "\n",
    "print(f\"{orig_shape[0] - source_df.shape[0]} registros não possuem UF ou MUNICIPIO\")\n",
    "\n",
    "source_df = source_df[\n",
    "    (source_df.estabelecimento_municipio_nome == MUNICIPIO) & (source_df.estabelecimento_uf == UF)\n",
    "].reset_index(drop=True)"
   ]
  },
  {
   "cell_type": "code",
   "execution_count": null,
   "id": "68b030c0",
   "metadata": {},
   "outputs": [],
   "source": [
    "source_df.vacina_nome.unique()"
   ]
  },
  {
   "cell_type": "code",
   "execution_count": null,
   "id": "51cde95e",
   "metadata": {},
   "outputs": [],
   "source": [
    "treated_df, anomaly_dict = treat_source_data(source_df)"
   ]
  },
  {
   "cell_type": "code",
   "execution_count": null,
   "id": "69a55bb5",
   "metadata": {},
   "outputs": [],
   "source": [
    "treated_df.head(5)"
   ]
  },
  {
   "cell_type": "markdown",
   "id": "12e0ba18",
   "metadata": {},
   "source": [
    "Salvando os dados tratados:"
   ]
  },
  {
   "cell_type": "code",
   "execution_count": null,
   "id": "9c0de7de",
   "metadata": {},
   "outputs": [],
   "source": [
    "if not os.path.exists(DATA_VAL_DIR):\n",
    "    os.mkdir(DATA_VAL_DIR)\n",
    "\n",
    "if not os.path.exists(os.path.join(DATA_VAL_DIR, UF)):\n",
    "    os.mkdir(os.path.join(DATA_VAL_DIR, UF))\n",
    "    \n",
    "if not os.path.exists(os.path.join(DATA_VAL_DIR, UF, MUNICIPIO)):\n",
    "    os.mkdir(os.path.join(DATA_VAL_DIR, UF, MUNICIPIO))\n",
    "\n",
    "treated_df.to_csv(os.path.join(DATA_VAL_DIR, UF, MUNICIPIO, f\"dado-tratado-{AUTHOR_NAME}.csv\"), sep=\";\", index=False)"
   ]
  },
  {
   "cell_type": "markdown",
   "id": "9ab13021",
   "metadata": {},
   "source": [
    "# Rotina de processamento dos dados\n",
    "\n",
    "O objetivo das rotinas implementadas a seguir (uma para cada item de visualização) é ler o dado tratado na etapa anterior, processá-lo e salvar o resultado na pasta específica. A **assinatura da função deve ser obedecida (não modificá-la)** e os dados salvos devem serguir o padrão pré-estabelecido (será detalhado em cada seção de implementação)."
   ]
  },
  {
   "cell_type": "code",
   "execution_count": null,
   "id": "7784c74b",
   "metadata": {},
   "outputs": [],
   "source": [
    "CSV_PATH = os.path.join(DATA_VAL_DIR, UF, MUNICIPIO, f\"dado-tratado-{AUTHOR_NAME}.csv\")"
   ]
  },
  {
   "cell_type": "code",
   "execution_count": null,
   "id": "3f00fa6b",
   "metadata": {},
   "outputs": [],
   "source": [
    "treated_df = pandas.read_csv(CSV_PATH, sep=\";\")"
   ]
  },
  {
   "cell_type": "code",
   "execution_count": null,
   "id": "35ed2d94",
   "metadata": {},
   "outputs": [],
   "source": [
    "MIN_DATE, MAX_DATE = \"2021-01-01\", \"2021-05-10\""
   ]
  },
  {
   "cell_type": "markdown",
   "id": "7650d42c",
   "metadata": {},
   "source": [
    "## Item I - Doses aplicadas por dia\n",
    "\n",
    "Calcula número total de doses aplicadas nos últimos dias por tipo de vacina.\n",
    "\n",
    "__Entradas__\n",
    "\n",
    "* `treated_df`: Dataframe tratado na seção anterior.\n",
    "* `min_date`: Data mínima a ser considerada. Deve ser uma _string_ no formato `YYYY-MM-DD`.\n",
    "* `max_date`: Data máxima a ser considerada. Deve ser uma _string_ no formato `YYYY-MM-DD`.\n",
    "\n",
    "__Saída__\n",
    "\n",
    "* `time_series`: Dataframe representando a série temporal de doses aplicadas acumuladas por tipo de vacina. A tabela deve conter uma coluna denominda __Data__ (_string_ no formato `YYYY-MM-DD`) seguida das colunas com o nome de cada vacina (valor da coluna __vacina_nome__) ordenadas alfabeticamente."
   ]
  },
  {
   "cell_type": "code",
   "execution_count": null,
   "id": "1aff1937",
   "metadata": {},
   "outputs": [],
   "source": [
    "def doses_aplicadas_por_dia(treated_df, min_date, max_date):\n",
    "    \n",
    "    time_series = pandas.DataFrame()\n",
    "    \n",
    "    # ===============================================\n",
    "    # TODO \n",
    "    # ===============================================\n",
    "    \n",
    "    return time_series"
   ]
  },
  {
   "cell_type": "markdown",
   "id": "dabdb1ba",
   "metadata": {},
   "source": [
    "Testando a tabela de saída **- NÃO MODIFICAR -**"
   ]
  },
  {
   "cell_type": "code",
   "execution_count": null,
   "id": "d841a4eb",
   "metadata": {},
   "outputs": [],
   "source": [
    "def validate_date(date_text):\n",
    "    if type(date_text) is not str:\n",
    "        raise ValueError(\"Tipo incorreto deve ser uma string.\")\n",
    "    try:\n",
    "        datetime.datetime.strptime(date_text, '%Y-%m-%d')\n",
    "    except ValueError:\n",
    "        raise ValueError(\"Formato da coluna Data incorreto, deve ser YYYY-MM-DD\")\n",
    "\n",
    "doses_aplicadas_por_dia_df = doses_aplicadas_por_dia(treated_df, MIN_DATE, MAX_DATE)\n",
    "\n",
    "n_rows = (datetime.datetime.strptime(MAX_DATE, \"%Y-%m-%d\").date() - datetime.datetime.strptime(MIN_DATE, \"%Y-%m-%d\").date()).days\n",
    "\n",
    "columns = [\"Data\"] + sorted(treated_df.vacina_nome.unique().tolist())\n",
    "\n",
    "# Valida colunas do dataframe\n",
    "assert columns == doses_aplicadas_por_dia_df.columns.tolist(), f\"As colunas devem ser {columns}\"\n",
    "\n",
    "# Valida datas do dataframe\n",
    "doses_aplicadas_por_dia_df.Data.apply(validate_date)\n",
    "\n",
    "# Valida quantidade de linhas no dataframe\n",
    "assert n_rows == doses_aplicadas_por_dia_df.shape[0], f\"O dataframe deve conter {n_rows} linhas.\"\n",
    "\n",
    "print(\"Passou.\")"
   ]
  },
  {
   "cell_type": "code",
   "execution_count": null,
   "id": "8f9c9a85",
   "metadata": {},
   "outputs": [],
   "source": [
    "save_dir = os.path.join(DATA_VAL_DIR, UF, MUNICIPIO, \"doses_aplicadas_por_dia\")\n",
    "\n",
    "if not os.path.exists(save_dir):\n",
    "    os.mkdir(save_dir)\n",
    "\n",
    "doses_aplicadas_por_dia_df.to_csv(os.path.join(save_dir, f\"{AUTHOR_NAME}.csv\"), sep=\";\", index=False)"
   ]
  },
  {
   "cell_type": "markdown",
   "id": "b3ccaeed",
   "metadata": {},
   "source": [
    "## Item II - Demanda por dia\n",
    "\n",
    "Calcula número total acumulado de doses necessárias para aplicar a segunda dose somente nas pessoas cujo o prazo máximo de aplicação vence nos próximos dias.\n",
    "\n",
    "__Entradas__\n",
    "\n",
    "* `treated_df`: Dataframe tratado na seção anterior.\n",
    "* `min_date`: Data mínima a ser considerada. Deve ser uma _string_ no formato `YYYY-MM-DD`.\n",
    "* `max_date`: Data máxima a ser considerada. Deve ser uma _string_ no formato `YYYY-MM-DD`.\n",
    "\n",
    "__Saída__\n",
    "\n",
    "* `time_series`: Dataframe representando a série temporal de doses -. A tabela deve conter uma coluna denominda __Data__ (_string_ no formato `YYYY-MM-DD`) e __Demanda__ representando o valor."
   ]
  },
  {
   "cell_type": "code",
   "execution_count": null,
   "id": "3642febc",
   "metadata": {},
   "outputs": [],
   "source": [
    "def demanda_por_dia(treated_df, min_date, max_date):\n",
    "    \n",
    "    time_series = pandas.DataFrame()\n",
    "    \n",
    "    # ===============================================\n",
    "    # TODO \n",
    "    # ===============================================\n",
    "    \n",
    "    return time_series"
   ]
  },
  {
   "cell_type": "markdown",
   "id": "d077b82b",
   "metadata": {},
   "source": [
    "Testando a tabela de saída **- NÃO MODIFICAR -**"
   ]
  },
  {
   "cell_type": "code",
   "execution_count": null,
   "id": "cedee2e8",
   "metadata": {},
   "outputs": [],
   "source": [
    "demanda_por_dia_df = demanda_por_dia(treated_df, MIN_DATE, MAX_DATE)\n",
    "\n",
    "n_rows = (datetime.datetime.strptime(MAX_DATE, \"%Y-%m-%d\").date() - datetime.datetime.strptime(MIN_DATE, \"%Y-%m-%d\").date()).days\n",
    "\n",
    "columns = [\"Data\", \"Demanda\"]\n",
    "\n",
    "# Valida colunas do dataframe\n",
    "assert columns == demanda_por_dia_df.columns.tolist(), f\"As colunas devem ser {columns}\"\n",
    "\n",
    "# Valida datas do dataframe\n",
    "demanda_por_dia_df.Data.apply(validate_date)\n",
    "\n",
    "# Valida quantidade de linhas no dataframe\n",
    "assert n_rows == demanda_por_dia_df.shape[0], f\"O dataframe deve conter {n_rows} linhas.\"\n",
    "\n",
    "print(\"Passou.\")"
   ]
  },
  {
   "cell_type": "code",
   "execution_count": null,
   "id": "de6b996e",
   "metadata": {},
   "outputs": [],
   "source": [
    "save_dir = os.path.join(DATA_VAL_DIR, UF, MUNICIPIO, \"demanda_por_dia\")\n",
    "\n",
    "if not os.path.exists(save_dir):\n",
    "    os.mkdir(save_dir)\n",
    "\n",
    "demanda_por_dia_df.to_csv(os.path.join(save_dir, f\"{AUTHOR_NAME}.csv\"), sep=\";\", index=False)"
   ]
  },
  {
   "cell_type": "markdown",
   "id": "3d00d237",
   "metadata": {},
   "source": [
    "## Item III - Demanda por vacina\n",
    "\n",
    "Calcula o número total acumulado de doses necessárias para aplicar a segunda dose somente nas pessoas cujo o prazo máximo de aplicação vence nos últimos dias, por tipo de vacina.\n",
    "\n",
    "__Entradas__\n",
    "\n",
    "* `treated_df`: Dataframe tratado na seção anterior.\n",
    "* `min_date`: Data mínima a ser considerada. Deve ser uma _string_ no formato `YYYY-MM-DD`.\n",
    "* `max_date`: Data máxima a ser considerada. Deve ser uma _string_ no formato `YYYY-MM-DD`.\n",
    "\n",
    "__Saída__\n",
    "\n",
    "* `time_series`: Dataframe representando a série temporal de doses. A tabela deve conter uma coluna denominda __Data__ (_string_ no formato `YYYY-MM-DD`) seguida das colunas com o nome de cada vacina (valor da coluna __vacina_nome__) ordenadas alfabeticamente."
   ]
  },
  {
   "cell_type": "code",
   "execution_count": null,
   "id": "b4114aa2",
   "metadata": {},
   "outputs": [],
   "source": [
    "def demanda_por_vacina(treated_df, min_date, max_date):\n",
    "    \n",
    "    time_series = pandas.DataFrame()\n",
    "    \n",
    "    # ===============================================\n",
    "    # TODO \n",
    "    # ===============================================\n",
    "    \n",
    "    return time_series"
   ]
  },
  {
   "cell_type": "markdown",
   "id": "6bdf3287",
   "metadata": {},
   "source": [
    "Testando a tabela de saída **- NÃO MODIFICAR -**"
   ]
  },
  {
   "cell_type": "code",
   "execution_count": null,
   "id": "6e6987b2",
   "metadata": {},
   "outputs": [],
   "source": [
    "demanda_por_vacina_df = demanda_por_vacina(treated_df, MIN_DATE, MAX_DATE)\n",
    "\n",
    "n_rows = (datetime.datetime.strptime(MAX_DATE, \"%Y-%m-%d\").date() - datetime.datetime.strptime(MIN_DATE, \"%Y-%m-%d\").date()).days\n",
    "\n",
    "columns = [\"Data\"] + sorted(treated_df.vacina_nome.unique().tolist())\n",
    "\n",
    "# Valida colunas do dataframe\n",
    "assert columns == demanda_por_vacina_df.columns.tolist(), f\"As colunas devem ser {columns}\"\n",
    "\n",
    "# Valida datas do dataframe\n",
    "demanda_por_vacina_df.Data.apply(validate_date)\n",
    "\n",
    "# Valida quantidade de linhas no dataframe\n",
    "assert n_rows == demanda_por_vacina_df.shape[0], f\"O dataframe deve conter {n_rows} linhas.\"\n",
    "\n",
    "print(\"Passou.\")"
   ]
  },
  {
   "cell_type": "code",
   "execution_count": null,
   "id": "72ecf8f2",
   "metadata": {},
   "outputs": [],
   "source": [
    "save_dir = os.path.join(DATA_VAL_DIR, UF, MUNICIPIO, \"demanda_por_vacina\")\n",
    "\n",
    "if not os.path.exists(save_dir):\n",
    "    os.mkdir(save_dir)\n",
    "\n",
    "demanda_por_vacina_df.to_csv(os.path.join(save_dir, f\"{AUTHOR_NAME}.csv\"), sep=\";\", index=False)"
   ]
  },
  {
   "cell_type": "markdown",
   "id": "e5ed0c51",
   "metadata": {},
   "source": [
    "## Item IV - Aplicação da Segunda Dose\n",
    "\n",
    "Calcula, dia a dia, o número total de pessoas que tomaram a segunda dose dentro e fora do prazo recomendado, por tipo de vacina.\n",
    "\n",
    "__Entradas__\n",
    "\n",
    "* `treated_df`: Dataframe tratado na seção anterior.\n",
    "* `min_date`: Data mínima a ser considerada. Deve ser uma _string_ no formato `YYYY-MM-DD`.\n",
    "* `max_date`: Data máxima a ser considerada. Deve ser uma _string_ no formato `YYYY-MM-DD`.\n",
    "* `vaccine_period`: Dicionário onde a chave é o nome da vacina e o valor é uma tupla (periodo_minimo_em_dias, periodo_max_em_dias) representando a janela de vacinação.\n",
    "\n",
    "__Saída__\n",
    "\n",
    "* `time_series_in`: Dataframe representando a série temporal de pacientes que tomaram a segunda dentro do prazo. A tabela deve conter uma coluna denominda __Data__ (_string_ no formato `YYYY-MM-DD`) seguida das colunas com o nome de cada vacina (valor da coluna __vacina_nome__) ordenadas alfabeticamente.\n",
    "\n",
    "* `time_series_out`: Dataframe representando a série temporal de pacientes que tomaram a segunda fora do prazo. A tabela deve conter uma coluna denominda __Data__ (_string_ no formato `YYYY-MM-DD`) seguida das colunas com o nome de cada vacina (valor da coluna __vacina_nome__) ordenadas alfabeticamente."
   ]
  },
  {
   "cell_type": "code",
   "execution_count": null,
   "id": "82d73555",
   "metadata": {},
   "outputs": [],
   "source": [
    "def aplicacao_2a_dose(treated_df, min_date, max_date, vaccine_period):\n",
    "    \n",
    "    time_series_in, time_series_out = pandas.DataFrame(), pandas.DataFrame()\n",
    "    \n",
    "    # ===============================================\n",
    "    # TODO \n",
    "    # ===============================================\n",
    "    \n",
    "    return time_series_in, time_series_out"
   ]
  },
  {
   "cell_type": "markdown",
   "id": "d81c84a5",
   "metadata": {},
   "source": [
    "Testando a tabela de saída **- NÃO MODIFICAR -**"
   ]
  },
  {
   "cell_type": "code",
   "execution_count": null,
   "id": "46bdac9c",
   "metadata": {},
   "outputs": [],
   "source": [
    "VACCINE_PERIOD = {\n",
    "    \"AstraZeneca\": (56, 84),\n",
    "    \"CoronaVac\": (14, 28),\n",
    "    \"Pfizer\": (21, 25)\n",
    "}\n",
    "\n",
    "aplicacao_2a_dose_df_IN, aplicacao_2a_dose_df_OUT = aplicacao_2a_dose(treated_df, MIN_DATE, MAX_DATE, VACCINE_PERIOD)\n",
    "\n",
    "n_rows = (datetime.datetime.strptime(MAX_DATE, \"%Y-%m-%d\").date() - datetime.datetime.strptime(MIN_DATE, \"%Y-%m-%d\").date()).days\n",
    "\n",
    "columns = [\"Data\"] + sorted(treated_df.vacina_nome.unique().tolist())\n",
    "\n",
    "# Valida colunas do dataframe IN\n",
    "assert columns == aplicacao_2a_dose_df_IN.columns.tolist(), f\"As colunas devem ser {columns}\"\n",
    "# Valida colunas do dataframe OUT\n",
    "assert columns == aplicacao_2a_dose_df_OUT.columns.tolist(), f\"As colunas devem ser {columns}\"\n",
    "\n",
    "# Valida datas do dataframe IN\n",
    "aplicacao_2a_dose_df_IN.Data.apply(validate_date)\n",
    "# Valida datas do dataframe OUT\n",
    "aplicacao_2a_dose_df_OUT.Data.apply(validate_date)\n",
    "\n",
    "# Valida quantidade de linhas no dataframe IN\n",
    "assert n_rows == aplicacao_2a_dose_df_IN.shape[0], f\"O dataframe deve conter {n_rows} linhas.\"\n",
    "# Valida quantidade de linhas no dataframe OUT\n",
    "assert n_rows == aplicacao_2a_dose_df_OUT.shape[0], f\"O dataframe deve conter {n_rows} linhas.\"\n",
    "\n",
    "print(\"Passou.\")"
   ]
  },
  {
   "cell_type": "code",
   "execution_count": null,
   "id": "f9fade8a",
   "metadata": {},
   "outputs": [],
   "source": [
    "save_dir_IN = os.path.join(DATA_VAL_DIR, UF, MUNICIPIO, \"aplicacao_2a_dose_dentro_prazo\")\n",
    "save_dir_OUT = os.path.join(DATA_VAL_DIR, UF, MUNICIPIO, \"aplicacao_2a_dose_fora_prazo\")\n",
    "\n",
    "if not os.path.exists(save_dir_IN):\n",
    "    os.mkdir(save_dir_IN)\n",
    "if not os.path.exists(save_dir_OUT):\n",
    "    os.mkdir(save_dir_OUT)\n",
    "\n",
    "aplicacao_2a_dose_df_IN.to_csv(os.path.join(save_dir_IN, f\"{AUTHOR_NAME}.csv\"), sep=\";\", index=False)\n",
    "aplicacao_2a_dose_df_OUT.to_csv(os.path.join(save_dir_OUT, f\"{AUTHOR_NAME}.csv\"), sep=\";\", index=False)"
   ]
  },
  {
   "cell_type": "markdown",
   "id": "d8974c3f",
   "metadata": {},
   "source": [
    "## Item V - Indicadores gerais\n",
    "\n",
    "O objetivo dessa rotina é calcular índices gerais, relacionados ao dataframe tratado. Eles são:\n",
    "\n",
    "* __Índice de abandono vacinal__ (por vacina) calculado até a data mais recente de aplicação (valor máximo em `vacina_dataAplicacao`). O índice de abandono vacinal é a razão que indica a proporção de pessoas que iniciaram o esquema vacinal, porém não concluíram.\n",
    "* Quantidade de __registros com anomalias__ como por exemplo: \"Registros sem data de 1a dose\" ou \"Registros onde data 2a dose for menor que data 1a dose\" entre outros (essas quantidades devem estar registradas em `anomaly_dict`, que foi calculado anteriormente).\n",
    "\n",
    "__Entrada__\n",
    "\n",
    "* `treated_df`: Dataframe tratado na seção anterior.\n",
    "* `min_date`: Data mínima a ser considerada. Deve ser uma _string_ no formato `YYYY-MM-DD`.\n",
    "* `max_date`: Data máxima a ser considerada. Deve ser uma _string_ no formato `YYYY-MM-DD`.\n",
    "* `anomaly_dict`: Dicionário de anomalias calculado na seção anterior.\n",
    "\n",
    "__Saída__\n",
    "\n",
    "* `general_index`: Dicionário contendo os índices calculados. Deve ser um objeto _JSON serializable_."
   ]
  },
  {
   "cell_type": "code",
   "execution_count": null,
   "id": "8d2a3d8e",
   "metadata": {},
   "outputs": [],
   "source": [
    "def indicadores_gerais(treated_df, min_date, max_date, anomaly_dict):\n",
    "    \n",
    "    general_index = {\n",
    "        \"Anomalias\": anomaly_dict, f\"Índice de abandono vacinal em YYYY-MM-DD\": None\n",
    "    }\n",
    "    \n",
    "    # ===============================================\n",
    "    # TODO \n",
    "    # ===============================================\n",
    "    \n",
    "    return general_index"
   ]
  },
  {
   "cell_type": "markdown",
   "id": "de3a763f",
   "metadata": {},
   "source": [
    "Salvando o resultado."
   ]
  },
  {
   "cell_type": "code",
   "execution_count": null,
   "id": "d8f7fba1",
   "metadata": {},
   "outputs": [],
   "source": [
    "indicadores_gerais_dict = indicadores_gerais(treated_df, MIN_DATE, MAX_DATE, anomaly_dict)\n",
    "\n",
    "with open(os.path.join(DATA_VAL_DIR, UF, MUNICIPIO, f\"indices_gerais-{AUTHOR_NAME}.json\"), \"w\") as jfile:\n",
    "    jfile.write(json.dumps(indicadores_gerais_dict, indent=1, ensure_ascii=False))"
   ]
  }
 ],
 "metadata": {
  "kernelspec": {
   "display_name": "Python 3",
   "language": "python",
   "name": "python3"
  },
  "language_info": {
   "codemirror_mode": {
    "name": "ipython",
    "version": 3
   },
   "file_extension": ".py",
   "mimetype": "text/x-python",
   "name": "python",
   "nbconvert_exporter": "python",
   "pygments_lexer": "ipython3",
   "version": "3.8.5"
  }
 },
 "nbformat": 4,
 "nbformat_minor": 5
}
