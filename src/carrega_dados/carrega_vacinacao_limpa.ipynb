{
 "cells": [
  {
   "cell_type": "code",
   "execution_count": 1,
   "metadata": {},
   "outputs": [],
   "source": [
    "from sqlalchemy import create_engine\n",
    "import os\n",
    "from os import listdir\n",
    "from os.path import isfile, join\n",
    "from datetime import datetime\n",
    "import pandas as pd\n",
    "import numpy as np\n",
    "\n",
    "from settings import *"
   ]
  },
  {
   "cell_type": "code",
   "execution_count": 2,
   "metadata": {},
   "outputs": [],
   "source": [
    "engine = create_engine(connection_uri)"
   ]
  },
  {
   "cell_type": "code",
   "execution_count": 3,
   "metadata": {},
   "outputs": [],
   "source": [
    "sql = \"\"\"\n",
    "DROP TABLE IF EXISTS public.vacinacao_limpa;\n",
    "\"\"\"\n",
    "\n",
    "# Executing SQL command\n",
    "with engine.connect() as con:\n",
    "    con.execute(sql)"
   ]
  },
  {
   "cell_type": "code",
   "execution_count": 4,
   "metadata": {},
   "outputs": [
    {
     "name": "stdout",
     "output_type": "stream",
     "text": [
      "\n",
      "CREATE TABLE public.vacinacao_limpa\n",
      "(\n",
      "    id_vacinacao SERIAL,\n",
      "    \"paciente_id\" text,\n",
      " \"paciente_idade\" int,\n",
      " \"paciente_datanascimento\" date,\n",
      " \"paciente_enumsexobiologico\" text,\n",
      " \"paciente_endereco_coibgemunicipio\" int,\n",
      " \"paciente_endereco_uf\" text,\n",
      " \"paciente_endereco_cep\" double precision,\n",
      " \"paciente_nacionalidade_enumnacionalidade\" text,\n",
      " \"estabelecimento_valor\" bigint,\n",
      " \"estabelecimento_razaosocial\" text,\n",
      " \"estalecimento_nofantasia\" text,\n",
      " \"estabelecimento_municipio_codigo\" int,\n",
      " \"estabelecimento_uf\" text,\n",
      " \"vacina_categoria_codigo\" double precision,\n",
      " \"vacina_categoria_nome\" text,\n",
      " \"vacina_dataaplicacao\" date,\n",
      " \"vacina_descricao_dose\" text,\n",
      " \"data_importacao_rnds\" date, \"id_paciente_racacor_valor\" SMALLINT,\n",
      " \"id_vacina_grupoatendimento_nome\" SMALLINT,\n",
      " \"id_vacina_nome\" SMALLINT,\n",
      " \"id_sistema_origem\" SMALLINT\n",
      ")\n",
      "\n"
     ]
    }
   ],
   "source": [
    "sql_vacinacao = \"\"\"\n",
    "CREATE TABLE public.vacinacao_limpa\n",
    "(\n",
    "    id_vacinacao SERIAL,\n",
    "    {cols}, {cols_norm}\n",
    ")\n",
    "\"\"\".format(cols=',\\n '.join(['\"{col}\" {tipo}'.format(col=col['nome'], tipo=col['tipo']) for col in COLUNAS_VACINACAO if col['nome'] not in COLUNAS_CATEGORICAS]),\n",
    "                                               cols_norm=',\\n '.join(['\"id_{col}\" SMALLINT'.format(col=col) for col in COLUNAS_CATEGORICAS])\n",
    "          )\n",
    "print(sql_vacinacao)"
   ]
  },
  {
   "cell_type": "code",
   "execution_count": 5,
   "metadata": {},
   "outputs": [],
   "source": [
    "# Executing SQL command\n",
    "with engine.connect() as con:\n",
    "    con.execute(sql_vacinacao)"
   ]
  },
  {
   "cell_type": "code",
   "execution_count": 6,
   "metadata": {},
   "outputs": [
    {
     "data": {
      "text/plain": [
       "['paciente_id',\n",
       " 'paciente_idade',\n",
       " 'paciente_datanascimento',\n",
       " 'paciente_enumsexobiologico',\n",
       " 'id_paciente_racacor_valor',\n",
       " 'paciente_endereco_coibgemunicipio',\n",
       " 'paciente_endereco_uf',\n",
       " 'paciente_nacionalidade_enumnacionalidade',\n",
       " 'estabelecimento_valor',\n",
       " 'estabelecimento_razaosocial',\n",
       " 'estalecimento_nofantasia',\n",
       " 'estabelecimento_municipio_codigo',\n",
       " 'estabelecimento_uf',\n",
       " 'id_vacina_grupoatendimento_nome',\n",
       " 'vacina_categoria_codigo',\n",
       " 'vacina_categoria_nome',\n",
       " 'vacina_dataaplicacao',\n",
       " 'vacina_descricao_dose',\n",
       " 'id_vacina_nome']"
      ]
     },
     "execution_count": 6,
     "metadata": {},
     "output_type": "execute_result"
    }
   ],
   "source": [
    "\n",
    "COLUNAS_DISTINCT"
   ]
  },
  {
   "cell_type": "code",
   "execution_count": 7,
   "metadata": {},
   "outputs": [
    {
     "name": "stdout",
     "output_type": "stream",
     "text": [
      "SELECT DISTINCT ON (vacinacao_norm.\"paciente_id\", vacinacao_norm.\"paciente_idade\", vacinacao_norm.\"paciente_datanascimento\", vacinacao_norm.\"paciente_enumsexobiologico\", vacinacao_norm.\"id_paciente_racacor_valor\", vacinacao_norm.\"paciente_endereco_coibgemunicipio\", vacinacao_norm.\"paciente_endereco_uf\", vacinacao_norm.\"paciente_nacionalidade_enumnacionalidade\", vacinacao_norm.\"estabelecimento_valor\", vacinacao_norm.\"estabelecimento_razaosocial\", vacinacao_norm.\"estalecimento_nofantasia\", vacinacao_norm.\"estabelecimento_municipio_codigo\", vacinacao_norm.\"estabelecimento_uf\", vacinacao_norm.\"id_vacina_grupoatendimento_nome\", vacinacao_norm.\"vacina_categoria_codigo\", vacinacao_norm.\"vacina_categoria_nome\", vacinacao_norm.\"vacina_dataaplicacao\", vacinacao_norm.\"vacina_descricao_dose\", vacinacao_norm.\"id_vacina_nome\")\n",
      "               vacinacao_norm.\"paciente_endereco_coibgemunicipio\", vacinacao_norm.\"paciente_enumsexobiologico\", vacinacao_norm.\"paciente_idade\", vacinacao_norm.\"paciente_endereco_cep\", vacinacao_norm.\"paciente_nacionalidade_enumnacionalidade\", vacinacao_norm.\"estabelecimento_municipio_codigo\", vacinacao_norm.\"paciente_endereco_uf\", vacinacao_norm.\"vacina_descricao_dose\", vacinacao_norm.\"paciente_id\", vacinacao_norm.\"estabelecimento_uf\", vacinacao_norm.\"vacina_categoria_nome\", vacinacao_norm.\"paciente_datanascimento\", vacinacao_norm.\"estabelecimento_razaosocial\", vacinacao_norm.\"data_importacao_rnds\", vacinacao_norm.\"estalecimento_nofantasia\", vacinacao_norm.\"estabelecimento_valor\", vacinacao_norm.\"vacina_dataaplicacao\", vacinacao_norm.\"vacina_categoria_codigo\", vacinacao_norm.\"id_paciente_racacor_valor\", vacinacao_norm.\"id_vacina_grupoatendimento_nome\", vacinacao_norm.\"id_vacina_nome\", vacinacao_norm.\"id_sistema_origem\"\n",
      "\n",
      "\n"
     ]
    }
   ],
   "source": [
    "select_str = \"\"\"SELECT DISTINCT ON ({cols_dist})\n",
    "               {cols}, {cols_norm}\n",
    "\n",
    "\"\"\".format(cols_dist=', '.join(['vacinacao_norm.\"{col}\"'.format(col=col) for col in COLUNAS_DISTINCT]),\n",
    "           cols=', '.join(['vacinacao_norm.\"{col}\"'.format(col=col) for col in COLUNAS_GERAL]),\n",
    "           cols_norm=', '.join(['vacinacao_norm.\"id_{col}\"'.format(col=col) for col in COLUNAS_CATEGORICAS]))\n",
    "\n",
    "print(select_str)"
   ]
  },
  {
   "cell_type": "code",
   "execution_count": 8,
   "metadata": {},
   "outputs": [
    {
     "data": {
      "text/plain": [
       "'FROM vacinacao_norm'"
      ]
     },
     "execution_count": 8,
     "metadata": {},
     "output_type": "execute_result"
    }
   ],
   "source": [
    "from_str = 'FROM vacinacao_norm'\n",
    "from_str"
   ]
  },
  {
   "cell_type": "code",
   "execution_count": 9,
   "metadata": {},
   "outputs": [
    {
     "data": {
      "text/plain": [
       "'INSERT INTO vacinacao_limpa (\"paciente_endereco_coibgemunicipio\", \"paciente_enumsexobiologico\", \"paciente_idade\", \"paciente_endereco_cep\", \"paciente_nacionalidade_enumnacionalidade\", \"estabelecimento_municipio_codigo\", \"paciente_endereco_uf\", \"vacina_descricao_dose\", \"paciente_id\", \"estabelecimento_uf\", \"vacina_categoria_nome\", \"paciente_datanascimento\", \"estabelecimento_razaosocial\", \"data_importacao_rnds\", \"estalecimento_nofantasia\", \"estabelecimento_valor\", \"vacina_dataaplicacao\", \"vacina_categoria_codigo\", \"id_paciente_racacor_valor\", \"id_vacina_grupoatendimento_nome\", \"id_vacina_nome\", \"id_sistema_origem\")\\n'"
      ]
     },
     "execution_count": 9,
     "metadata": {},
     "output_type": "execute_result"
    }
   ],
   "source": [
    "insert_str = 'INSERT INTO vacinacao_limpa ({cols}, {cols_norm})\\n'.format(cols=', '.join(['\"{col}\"'.format(col=col) for col in COLUNAS_GERAL]),\n",
    "                                               cols_norm=', '.join(['\"id_{col}\"'.format(col=col) for col in COLUNAS_CATEGORICAS])\n",
    "          )\n",
    "insert_str"
   ]
  },
  {
   "cell_type": "code",
   "execution_count": 10,
   "metadata": {},
   "outputs": [
    {
     "name": "stdout",
     "output_type": "stream",
     "text": [
      "\n",
      "    INSERT INTO vacinacao_limpa (\"paciente_endereco_coibgemunicipio\", \"paciente_enumsexobiologico\", \"paciente_idade\", \"paciente_endereco_cep\", \"paciente_nacionalidade_enumnacionalidade\", \"estabelecimento_municipio_codigo\", \"paciente_endereco_uf\", \"vacina_descricao_dose\", \"paciente_id\", \"estabelecimento_uf\", \"vacina_categoria_nome\", \"paciente_datanascimento\", \"estabelecimento_razaosocial\", \"data_importacao_rnds\", \"estalecimento_nofantasia\", \"estabelecimento_valor\", \"vacina_dataaplicacao\", \"vacina_categoria_codigo\", \"id_paciente_racacor_valor\", \"id_vacina_grupoatendimento_nome\", \"id_vacina_nome\", \"id_sistema_origem\")\n",
      "\n",
      "    SELECT DISTINCT ON (vacinacao_norm.\"paciente_id\", vacinacao_norm.\"paciente_idade\", vacinacao_norm.\"paciente_datanascimento\", vacinacao_norm.\"paciente_enumsexobiologico\", vacinacao_norm.\"id_paciente_racacor_valor\", vacinacao_norm.\"paciente_endereco_coibgemunicipio\", vacinacao_norm.\"paciente_endereco_uf\", vacinacao_norm.\"paciente_nacionalidade_enumnacionalidade\", vacinacao_norm.\"estabelecimento_valor\", vacinacao_norm.\"estabelecimento_razaosocial\", vacinacao_norm.\"estalecimento_nofantasia\", vacinacao_norm.\"estabelecimento_municipio_codigo\", vacinacao_norm.\"estabelecimento_uf\", vacinacao_norm.\"id_vacina_grupoatendimento_nome\", vacinacao_norm.\"vacina_categoria_codigo\", vacinacao_norm.\"vacina_categoria_nome\", vacinacao_norm.\"vacina_dataaplicacao\", vacinacao_norm.\"vacina_descricao_dose\", vacinacao_norm.\"id_vacina_nome\")\n",
      "               vacinacao_norm.\"paciente_endereco_coibgemunicipio\", vacinacao_norm.\"paciente_enumsexobiologico\", vacinacao_norm.\"paciente_idade\", vacinacao_norm.\"paciente_endereco_cep\", vacinacao_norm.\"paciente_nacionalidade_enumnacionalidade\", vacinacao_norm.\"estabelecimento_municipio_codigo\", vacinacao_norm.\"paciente_endereco_uf\", vacinacao_norm.\"vacina_descricao_dose\", vacinacao_norm.\"paciente_id\", vacinacao_norm.\"estabelecimento_uf\", vacinacao_norm.\"vacina_categoria_nome\", vacinacao_norm.\"paciente_datanascimento\", vacinacao_norm.\"estabelecimento_razaosocial\", vacinacao_norm.\"data_importacao_rnds\", vacinacao_norm.\"estalecimento_nofantasia\", vacinacao_norm.\"estabelecimento_valor\", vacinacao_norm.\"vacina_dataaplicacao\", vacinacao_norm.\"vacina_categoria_codigo\", vacinacao_norm.\"id_paciente_racacor_valor\", vacinacao_norm.\"id_vacina_grupoatendimento_nome\", vacinacao_norm.\"id_vacina_nome\", vacinacao_norm.\"id_sistema_origem\"\n",
      "\n",
      "FROM vacinacao_norm\n",
      "    ;\n",
      "\n"
     ]
    }
   ],
   "source": [
    "sql = \"\"\"\n",
    "    {insert}\n",
    "    {select}\n",
    "    ;\n",
    "\"\"\".format(select=select_str+from_str, insert=insert_str)\n",
    "print(sql)"
   ]
  },
  {
   "cell_type": "code",
   "execution_count": 11,
   "metadata": {},
   "outputs": [],
   "source": [
    "\n",
    "with engine.connect() as con:\n",
    "    con.execute(sql)\n"
   ]
  },
  {
   "cell_type": "code",
   "execution_count": null,
   "metadata": {},
   "outputs": [],
   "source": []
  }
 ],
 "metadata": {
  "hide_input": false,
  "kernelspec": {
   "display_name": "Python 3",
   "language": "python",
   "name": "python3"
  },
  "language_info": {
   "codemirror_mode": {
    "name": "ipython",
    "version": 3
   },
   "file_extension": ".py",
   "mimetype": "text/x-python",
   "name": "python",
   "nbconvert_exporter": "python",
   "pygments_lexer": "ipython3",
   "version": "3.7.3"
  },
  "toc": {
   "base_numbering": 1,
   "nav_menu": {},
   "number_sections": true,
   "sideBar": true,
   "skip_h1_title": false,
   "title_cell": "Table of Contents",
   "title_sidebar": "Contents",
   "toc_cell": false,
   "toc_position": {},
   "toc_section_display": true,
   "toc_window_display": false
  }
 },
 "nbformat": 4,
 "nbformat_minor": 2
}
