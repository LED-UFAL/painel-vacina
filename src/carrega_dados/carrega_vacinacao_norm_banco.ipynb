{
 "cells": [
  {
   "cell_type": "code",
   "execution_count": 1,
   "metadata": {},
   "outputs": [],
   "source": [
    "from sqlalchemy import create_engine\n",
    "import os\n",
    "from os import listdir\n",
    "from os.path import isfile, join\n",
    "from datetime import datetime\n",
    "import pandas as pd\n",
    "import numpy as np\n",
    "\n",
    "from settings import *"
   ]
  },
  {
   "cell_type": "code",
   "execution_count": 2,
   "metadata": {},
   "outputs": [],
   "source": [
    "engine = create_engine(connection_uri)"
   ]
  },
  {
   "cell_type": "code",
   "execution_count": 3,
   "metadata": {},
   "outputs": [],
   "source": [
    "sql = \"\"\"\n",
    "DROP TABLE IF EXISTS public.vacinacao_norm;\n",
    "\"\"\"\n",
    "\n",
    "# Executing SQL command\n",
    "with engine.connect() as con:\n",
    "    con.execute(sql)"
   ]
  },
  {
   "cell_type": "code",
   "execution_count": 4,
   "metadata": {},
   "outputs": [],
   "source": [
    "# sql_vacinacao = \"\"\"\n",
    "# CREATE TABLE public.vacinacao\n",
    "# (\n",
    "#     {cols}\n",
    "# )\n",
    "# \"\"\".format(cols = \",\\n\".join(['\"{col}\" {tipo}'.format(col=col['nome'], tipo=col['tipo']) for col in COLUNAS_VACINACAO]))\n",
    "\n",
    "# print(sql_vacinacao)"
   ]
  },
  {
   "cell_type": "code",
   "execution_count": 5,
   "metadata": {},
   "outputs": [
    {
     "name": "stdout",
     "output_type": "stream",
     "text": [
      "\n",
      "CREATE TABLE public.vacinacao_norm\n",
      "(\n",
      "    \"paciente_id\" text,\n",
      " \"paciente_idade\" int,\n",
      " \"paciente_datanascimento\" date,\n",
      " \"paciente_enumsexobiologico\" text,\n",
      " \"paciente_endereco_coibgemunicipio\" int,\n",
      " \"paciente_endereco_uf\" text,\n",
      " \"paciente_endereco_cep\" double precision,\n",
      " \"paciente_nacionalidade_enumnacionalidade\" text,\n",
      " \"estabelecimento_valor\" bigint,\n",
      " \"estabelecimento_razaosocial\" text,\n",
      " \"estalecimento_nofantasia\" text,\n",
      " \"estabelecimento_municipio_codigo\" int,\n",
      " \"estabelecimento_uf\" text,\n",
      " \"vacina_categoria_codigo\" double precision,\n",
      " \"vacina_categoria_nome\" text,\n",
      " \"vacina_dataaplicacao\" date,\n",
      " \"vacina_descricao_dose\" text,\n",
      " \"data_importacao_rnds\" date, \"id_paciente_racacor_valor\" SMALLINT,\n",
      " \"id_vacina_grupoatendimento_nome\" SMALLINT,\n",
      " \"id_vacina_nome\" SMALLINT,\n",
      " \"id_sistema_origem\" SMALLINT\n",
      ")\n",
      "\n"
     ]
    }
   ],
   "source": [
    "sql_vacinacao = \"\"\"\n",
    "CREATE TABLE public.vacinacao_norm\n",
    "(\n",
    "    {cols}, {cols_norm}\n",
    ")\n",
    "\"\"\".format(cols=',\\n '.join(['\"{col}\" {tipo}'.format(col=col['nome'], tipo=col['tipo']) for col in COLUNAS_VACINACAO if col['nome'] not in COLUNAS_CATEGORICAS]),\n",
    "                                               cols_norm=',\\n '.join(['\"id_{col}\" SMALLINT'.format(col=col) for col in COLUNAS_CATEGORICAS])\n",
    "          )\n",
    "print(sql_vacinacao)"
   ]
  },
  {
   "cell_type": "code",
   "execution_count": 6,
   "metadata": {},
   "outputs": [],
   "source": [
    "\n",
    "# sql_vacinacao = \"\"\"\n",
    "# CREATE TABLE public.vacinacao\n",
    "# (\n",
    "#     paciente_id text,\n",
    "#     paciente_idade text,\n",
    "#     \"paciente_dataNascimento\" text,\n",
    "#     \"paciente_enumSexoBiologico\" VARCHAR,\n",
    "#     \"paciente_racaCor_valor\" text,\n",
    "#     \"paciente_endereco_coIbgeMunicipio\" text,\n",
    "#     paciente_endereco_uf text,\n",
    "#     paciente_endereco_cep double precision,\n",
    "#     \"paciente_nacionalidade_enumNacionalidade\" text,\n",
    "#     estabelecimento_valor bigint,\n",
    "#     \"estabelecimento_razaoSocial\" text,\n",
    "#     \"estalecimento_noFantasia\" text,\n",
    "#     estabelecimento_municipio_codigo text,\n",
    "#     estabelecimento_uf text,\n",
    "#     \"vacina_grupoAtendimento_nome\" text,\n",
    "#     vacina_categoria_codigo double precision,\n",
    "#     vacina_categoria_nome text,\n",
    "#     \"vacina_dataAplicacao\" date,\n",
    "#     vacina_descricao_dose text,\n",
    "#     vacina_nome text,\n",
    "#     sistema_origem text,\n",
    "#     vacina_grupoAtendimento_nome bigint,\n",
    "#     data_importacao_rnds date\n",
    "# )\n",
    "# WITH (\n",
    "#     OIDS = FALSE\n",
    "# )\n",
    "# TABLESPACE pg_default;\n",
    "\n",
    "# ALTER TABLE public.staging\n",
    "#     OWNER to luizcelso;\n",
    "# \"\"\""
   ]
  },
  {
   "cell_type": "code",
   "execution_count": 7,
   "metadata": {},
   "outputs": [],
   "source": [
    "# Executing SQL command\n",
    "with engine.connect() as con:\n",
    "    con.execute(sql_vacinacao)"
   ]
  },
  {
   "cell_type": "code",
   "execution_count": 8,
   "metadata": {},
   "outputs": [
    {
     "data": {
      "text/plain": [
       "'\"paciente_id\", \"paciente_idade\", \"paciente_datanascimento\", \"paciente_enumsexobiologico\", \"paciente_endereco_coibgemunicipio\", \"paciente_endereco_uf\", \"paciente_endereco_cep\", \"paciente_nacionalidade_enumnacionalidade\", \"estabelecimento_valor\", \"estabelecimento_razaosocial\", \"estalecimento_nofantasia\", \"estabelecimento_municipio_codigo\", \"estabelecimento_uf\", \"vacina_categoria_codigo\", \"vacina_categoria_nome\", \"vacina_dataaplicacao\", \"vacina_descricao_dose\", \"data_importacao_rnds\", \"id_paciente_racacor_valor\", \"id_vacina_grupoatendimento_nome\", \"id_vacina_nome\", \"id_sistema_origem\"'"
      ]
     },
     "execution_count": 8,
     "metadata": {},
     "output_type": "execute_result"
    }
   ],
   "source": [
    "cols = [x.strip().split(\" \")[0] for x in ''.join(sql_vacinacao.split(\"(\")[1]).split(\")\")[0].split(',')]\n",
    "\n",
    "cols_str = ', '.join(cols)\n",
    "\n",
    "cols_str"
   ]
  },
  {
   "cell_type": "code",
   "execution_count": 9,
   "metadata": {},
   "outputs": [
    {
     "data": {
      "text/plain": [
       "['\"paciente_id\"',\n",
       " '\"paciente_idade\"',\n",
       " '\"paciente_datanascimento\"',\n",
       " '\"paciente_enumsexobiologico\"',\n",
       " '\"paciente_endereco_coibgemunicipio\"',\n",
       " '\"paciente_endereco_uf\"',\n",
       " '\"paciente_endereco_cep\"',\n",
       " '\"paciente_nacionalidade_enumnacionalidade\"',\n",
       " '\"estabelecimento_valor\"',\n",
       " '\"estabelecimento_razaosocial\"',\n",
       " '\"estalecimento_nofantasia\"',\n",
       " '\"estabelecimento_municipio_codigo\"',\n",
       " '\"estabelecimento_uf\"',\n",
       " '\"vacina_categoria_codigo\"',\n",
       " '\"vacina_categoria_nome\"',\n",
       " '\"vacina_dataaplicacao\"',\n",
       " '\"vacina_descricao_dose\"',\n",
       " '\"data_importacao_rnds\"',\n",
       " '\"id_paciente_racacor_valor\"',\n",
       " '\"id_vacina_grupoatendimento_nome\"',\n",
       " '\"id_vacina_nome\"',\n",
       " '\"id_sistema_origem\"']"
      ]
     },
     "execution_count": 9,
     "metadata": {},
     "output_type": "execute_result"
    }
   ],
   "source": [
    "cols"
   ]
  },
  {
   "cell_type": "code",
   "execution_count": 10,
   "metadata": {},
   "outputs": [],
   "source": [
    "# sql_vacinacao_insert = \"\"\"\n",
    "# INSERT INTO vacinacao\n",
    "# SELECT {} \n",
    "# FROM staging \n",
    "# --LIMIT 10\n",
    "# ;\n",
    "# \"\"\".format(cols_str)\n",
    "\n",
    "# print(sql_vacinacao_insert)"
   ]
  },
  {
   "cell_type": "code",
   "execution_count": 11,
   "metadata": {},
   "outputs": [
    {
     "data": {
      "text/plain": [
       "'SELECT staging.\"estabelecimento_municipio_codigo\", staging.\"estabelecimento_uf\", staging.\"paciente_enumsexobiologico\", staging.\"vacina_dataaplicacao\", staging.\"vacina_categoria_codigo\", staging.\"paciente_nacionalidade_enumnacionalidade\", staging.\"vacina_descricao_dose\", staging.\"estabelecimento_valor\", staging.\"paciente_endereco_cep\", staging.\"estabelecimento_razaosocial\", staging.\"estalecimento_nofantasia\", staging.\"vacina_categoria_nome\", staging.\"paciente_endereco_uf\", staging.\"paciente_datanascimento\", staging.\"paciente_idade\", staging.\"data_importacao_rnds\", staging.\"paciente_id\", staging.\"paciente_endereco_coibgemunicipio\", \"paciente_racacor_valor\".\"id_paciente_racacor_valor\", \"vacina_grupoatendimento_nome\".\"id_vacina_grupoatendimento_nome\", \"vacina_nome\".\"id_vacina_nome\", \"sistema_origem\".\"id_sistema_origem\"\\n'"
      ]
     },
     "execution_count": 11,
     "metadata": {},
     "output_type": "execute_result"
    }
   ],
   "source": [
    "select_str = 'SELECT {cols}, {cols_norm}\\n'.format(cols=', '.join(['staging.\"{col}\"'.format(col=col) for col in COLUNAS_GERAL]),\n",
    "                                               cols_norm=', '.join(['\"{col}\".\"id_{col}\"'.format(col=col) for col in COLUNAS_CATEGORICAS])\n",
    "          )\n",
    "\n",
    "select_str"
   ]
  },
  {
   "cell_type": "code",
   "execution_count": 12,
   "metadata": {},
   "outputs": [
    {
     "data": {
      "text/plain": [
       "'FROM staging LEFT JOIN \"paciente_racacor_valor\" ON (staging.\"paciente_racacor_valor\"=\"paciente_racacor_valor\".\"paciente_racacor_valor\") LEFT JOIN \"vacina_grupoatendimento_nome\" ON (staging.\"vacina_grupoatendimento_nome\"=\"vacina_grupoatendimento_nome\".\"vacina_grupoatendimento_nome\") LEFT JOIN \"vacina_nome\" ON (staging.\"vacina_nome\"=\"vacina_nome\".\"vacina_nome\") LEFT JOIN \"sistema_origem\" ON (staging.\"sistema_origem\"=\"sistema_origem\".\"sistema_origem\")\\n'"
      ]
     },
     "execution_count": 12,
     "metadata": {},
     "output_type": "execute_result"
    }
   ],
   "source": [
    "from_str = 'FROM staging {tables}\\n'.format(tables=' '.join(['LEFT JOIN \"{c}\" ON (staging.\"{c}\"=\"{c}\".\"{c}\")'.format(c=x) for x in COLUNAS_CATEGORICAS])\n",
    "          )\n",
    "from_str"
   ]
  },
  {
   "cell_type": "code",
   "execution_count": 13,
   "metadata": {},
   "outputs": [
    {
     "data": {
      "text/plain": [
       "'INSERT INTO vacinacao_norm (\"estabelecimento_municipio_codigo\", \"estabelecimento_uf\", \"paciente_enumsexobiologico\", \"vacina_dataaplicacao\", \"vacina_categoria_codigo\", \"paciente_nacionalidade_enumnacionalidade\", \"vacina_descricao_dose\", \"estabelecimento_valor\", \"paciente_endereco_cep\", \"estabelecimento_razaosocial\", \"estalecimento_nofantasia\", \"vacina_categoria_nome\", \"paciente_endereco_uf\", \"paciente_datanascimento\", \"paciente_idade\", \"data_importacao_rnds\", \"paciente_id\", \"paciente_endereco_coibgemunicipio\", \"id_paciente_racacor_valor\", \"id_vacina_grupoatendimento_nome\", \"id_vacina_nome\", \"id_sistema_origem\")\\n'"
      ]
     },
     "execution_count": 13,
     "metadata": {},
     "output_type": "execute_result"
    }
   ],
   "source": [
    "insert_str = 'INSERT INTO vacinacao_norm ({cols}, {cols_norm})\\n'.format(cols=', '.join(['\"{col}\"'.format(col=col) for col in COLUNAS_GERAL]),\n",
    "                                               cols_norm=', '.join(['\"id_{col}\"'.format(col=col) for col in COLUNAS_CATEGORICAS])\n",
    "          )\n",
    "insert_str"
   ]
  },
  {
   "cell_type": "code",
   "execution_count": 14,
   "metadata": {},
   "outputs": [
    {
     "name": "stdout",
     "output_type": "stream",
     "text": [
      "\n",
      "    INSERT INTO vacinacao_norm (\"estabelecimento_municipio_codigo\", \"estabelecimento_uf\", \"paciente_enumsexobiologico\", \"vacina_dataaplicacao\", \"vacina_categoria_codigo\", \"paciente_nacionalidade_enumnacionalidade\", \"vacina_descricao_dose\", \"estabelecimento_valor\", \"paciente_endereco_cep\", \"estabelecimento_razaosocial\", \"estalecimento_nofantasia\", \"vacina_categoria_nome\", \"paciente_endereco_uf\", \"paciente_datanascimento\", \"paciente_idade\", \"data_importacao_rnds\", \"paciente_id\", \"paciente_endereco_coibgemunicipio\", \"id_paciente_racacor_valor\", \"id_vacina_grupoatendimento_nome\", \"id_vacina_nome\", \"id_sistema_origem\")\n",
      "\n",
      "    SELECT staging.\"estabelecimento_municipio_codigo\", staging.\"estabelecimento_uf\", staging.\"paciente_enumsexobiologico\", staging.\"vacina_dataaplicacao\", staging.\"vacina_categoria_codigo\", staging.\"paciente_nacionalidade_enumnacionalidade\", staging.\"vacina_descricao_dose\", staging.\"estabelecimento_valor\", staging.\"paciente_endereco_cep\", staging.\"estabelecimento_razaosocial\", staging.\"estalecimento_nofantasia\", staging.\"vacina_categoria_nome\", staging.\"paciente_endereco_uf\", staging.\"paciente_datanascimento\", staging.\"paciente_idade\", staging.\"data_importacao_rnds\", staging.\"paciente_id\", staging.\"paciente_endereco_coibgemunicipio\", \"paciente_racacor_valor\".\"id_paciente_racacor_valor\", \"vacina_grupoatendimento_nome\".\"id_vacina_grupoatendimento_nome\", \"vacina_nome\".\"id_vacina_nome\", \"sistema_origem\".\"id_sistema_origem\"\n",
      "FROM staging LEFT JOIN \"paciente_racacor_valor\" ON (staging.\"paciente_racacor_valor\"=\"paciente_racacor_valor\".\"paciente_racacor_valor\") LEFT JOIN \"vacina_grupoatendimento_nome\" ON (staging.\"vacina_grupoatendimento_nome\"=\"vacina_grupoatendimento_nome\".\"vacina_grupoatendimento_nome\") LEFT JOIN \"vacina_nome\" ON (staging.\"vacina_nome\"=\"vacina_nome\".\"vacina_nome\") LEFT JOIN \"sistema_origem\" ON (staging.\"sistema_origem\"=\"sistema_origem\".\"sistema_origem\")\n",
      "\n",
      "    ;\n",
      "\n"
     ]
    }
   ],
   "source": [
    "sql = \"\"\"\n",
    "    {insert}\n",
    "    {select}\n",
    "    ;\n",
    "\"\"\".format(select=select_str+from_str, insert=insert_str)\n",
    "print(sql)"
   ]
  },
  {
   "cell_type": "code",
   "execution_count": 15,
   "metadata": {},
   "outputs": [],
   "source": [
    "\n",
    "with engine.connect() as con:\n",
    "    con.execute(sql)\n"
   ]
  },
  {
   "cell_type": "code",
   "execution_count": 16,
   "metadata": {},
   "outputs": [
    {
     "data": {
      "text/plain": [
       "['estabelecimento_municipio_codigo',\n",
       " 'estabelecimento_uf',\n",
       " 'paciente_enumsexobiologico',\n",
       " 'vacina_dataaplicacao',\n",
       " 'vacina_categoria_codigo',\n",
       " 'paciente_nacionalidade_enumnacionalidade',\n",
       " 'vacina_descricao_dose',\n",
       " 'estabelecimento_valor',\n",
       " 'paciente_endereco_cep',\n",
       " 'estabelecimento_razaosocial',\n",
       " 'estalecimento_nofantasia',\n",
       " 'vacina_categoria_nome',\n",
       " 'paciente_endereco_uf',\n",
       " 'paciente_datanascimento',\n",
       " 'paciente_idade',\n",
       " 'data_importacao_rnds',\n",
       " 'paciente_id',\n",
       " 'paciente_endereco_coibgemunicipio']"
      ]
     },
     "execution_count": 16,
     "metadata": {},
     "output_type": "execute_result"
    }
   ],
   "source": [
    "\n",
    "\n",
    "COLUNAS_GERAL"
   ]
  },
  {
   "cell_type": "code",
   "execution_count": null,
   "metadata": {},
   "outputs": [],
   "source": []
  }
 ],
 "metadata": {
  "hide_input": false,
  "kernelspec": {
   "display_name": "Python 3",
   "language": "python",
   "name": "python3"
  },
  "language_info": {
   "codemirror_mode": {
    "name": "ipython",
    "version": 3
   },
   "file_extension": ".py",
   "mimetype": "text/x-python",
   "name": "python",
   "nbconvert_exporter": "python",
   "pygments_lexer": "ipython3",
   "version": "3.7.6"
  },
  "toc": {
   "base_numbering": 1,
   "nav_menu": {},
   "number_sections": true,
   "sideBar": true,
   "skip_h1_title": false,
   "title_cell": "Table of Contents",
   "title_sidebar": "Contents",
   "toc_cell": false,
   "toc_position": {},
   "toc_section_display": true,
   "toc_window_display": false
  }
 },
 "nbformat": 4,
 "nbformat_minor": 2
}
