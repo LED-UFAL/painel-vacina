{
 "cells": [
  {
   "cell_type": "code",
   "execution_count": 1,
   "metadata": {},
   "outputs": [],
   "source": [
    "from sqlalchemy import create_engine\n",
    "import os\n",
    "from os import listdir\n",
    "from os.path import isfile, join\n",
    "from datetime import datetime\n",
    "import pandas as pd\n",
    "import numpy as np\n",
    "\n",
    "from settings import *"
   ]
  },
  {
   "cell_type": "code",
   "execution_count": 2,
   "metadata": {},
   "outputs": [],
   "source": [
    "data_dir = os.path.join(os.path.abspath(''), '../../datasets/raw/')\n",
    "\n",
    "file = 'open-datasus_AC-2021_05_11.csv'\n",
    "\n",
    "chunk_size=int(1e6)"
   ]
  },
  {
   "cell_type": "code",
   "execution_count": 3,
   "metadata": {},
   "outputs": [
    {
     "data": {
      "text/plain": [
       "['open-datasus_AC-2021_05_16.csv',\n",
       " 'open-datasus_AL-2021_05_16.csv',\n",
       " 'open-datasus_AM-2021_05_16.csv',\n",
       " 'open-datasus_AP-2021_05_16.csv',\n",
       " 'open-datasus_BA-2021_05_16.csv',\n",
       " 'open-datasus_CE-2021_05_16.csv',\n",
       " 'open-datasus_DF-2021_05_16.csv',\n",
       " 'open-datasus_ES-2021_05_16.csv',\n",
       " 'open-datasus_GO-2021_05_16.csv',\n",
       " 'open-datasus_MA-2021_05_16.csv',\n",
       " 'open-datasus_MG-2021_05_16.csv',\n",
       " 'open-datasus_MS-2021_05_16.csv',\n",
       " 'open-datasus_MT-2021_05_16.csv',\n",
       " 'open-datasus_PA-2021_05_16.csv',\n",
       " 'open-datasus_PB-2021_05_16.csv',\n",
       " 'open-datasus_PE-2021_05_16.csv',\n",
       " 'open-datasus_PI-2021_05_16.csv',\n",
       " 'open-datasus_PR-2021_05_16.csv',\n",
       " 'open-datasus_RJ-2021_05_16.csv',\n",
       " 'open-datasus_RN-2021_05_16.csv',\n",
       " 'open-datasus_RO-2021_05_16.csv',\n",
       " 'open-datasus_RR-2021_05_16.csv',\n",
       " 'open-datasus_RS-2021_05_16.csv',\n",
       " 'open-datasus_SC-2021_05_16.csv',\n",
       " 'open-datasus_SE-2021_05_16.csv',\n",
       " 'open-datasus_SP-2021_05_16.csv',\n",
       " 'open-datasus_TO-2021_05_16.csv']"
      ]
     },
     "execution_count": 3,
     "metadata": {},
     "output_type": "execute_result"
    }
   ],
   "source": [
    "# obtém lista de arquivos\n",
    "files = [f for f in listdir(data_dir) if isfile(join(data_dir, f)) and f.startswith('open-datasus')]\n",
    "files.sort()\n",
    "\n",
    "\n",
    "# obtém sufixo (data) dos arquivos mais recentes\n",
    "suffix = files[-1].split('-')[2]\n",
    "\n",
    "# seleciona arquivos mais recentes\n",
    "last_files = [f for f in files if f.endswith(suffix)]\n",
    "\n",
    "last_files"
   ]
  },
  {
   "cell_type": "code",
   "execution_count": 4,
   "metadata": {},
   "outputs": [],
   "source": [
    "engine = create_engine(connection_uri)"
   ]
  },
  {
   "cell_type": "code",
   "execution_count": 5,
   "metadata": {},
   "outputs": [],
   "source": [
    "\n",
    "\n",
    "sql = \"\"\"\n",
    "DELETE FROM staging;\n",
    "\"\"\"\n",
    "\n",
    "# Executing SQL command\n",
    "with engine.connect() as con:\n",
    "    con.execute(sql)"
   ]
  },
  {
   "cell_type": "code",
   "execution_count": 6,
   "metadata": {},
   "outputs": [],
   "source": [
    "FIELD_LIST = [\n",
    "    'paciente_id',\n",
    "    'paciente_idade',\n",
    "    'paciente_enumSexoBiologico',\n",
    "    'paciente_racaCor_valor',\n",
    "    'paciente_endereco_cep',\n",
    "    'paciente_endereco_coIbgeMunicipio',\n",
    "    'estabelecimento_municipio_codigo',\n",
    "    'estabelecimento_municipio_nome',\n",
    "    'estabelecimento_uf',\n",
    "    'vacina_grupoAtendimento_nome',\n",
    "    'vacina_categoria_codigo',\n",
    "    'vacina_categoria_nome',\n",
    "    'vacina_lote',\n",
    "    'vacina_dataAplicacao',\n",
    "    'vacina_descricao_dose',\n",
    "    'vacina_nome',\n",
    "    'sistema_origem',\n",
    "    'data_importacao_rnds'\n",
    "]\n",
    "\n",
    "FIELD_TYPE_LIST = {\n",
    "    'paciente_id': 'str',\n",
    "    'paciente_idade': 'str',\n",
    "    'paciente_enumSexoBiologico': 'str',\n",
    "    'paciente_racaCor_valor': 'str',\n",
    "    'paciente_endereco_coIbgeMunicipio': 'str',\n",
    "    'estabelecimento_municipio_codigo': 'str',\n",
    "    'estabelecimento_municipio_nome': 'str',\n",
    "    'estabelecimento_uf': 'str',\n",
    "    'vacina_grupoAtendimento_nome': 'str',\n",
    "    'vacina_categoria_nome': 'str',\n",
    "    'vacina_lote': 'str',\n",
    "    'vacina_dataAplicacao': 'str',\n",
    "    'vacina_descricao_dose': 'str',\n",
    "    'vacina_nome': 'str',\n",
    "    'sistema_origem': 'str',\n",
    "}"
   ]
  },
  {
   "cell_type": "code",
   "execution_count": 7,
   "metadata": {},
   "outputs": [
    {
     "data": {
      "text/plain": [
       "{'paciente_id': 'str',\n",
       " 'paciente_idade': 'str',\n",
       " 'paciente_enumsexobiologico': 'str',\n",
       " 'paciente_racacor_valor': 'str',\n",
       " 'paciente_endereco_coibgemunicipio': 'str',\n",
       " 'estabelecimento_municipio_codigo': 'str',\n",
       " 'estabelecimento_municipio_nome': 'str',\n",
       " 'estabelecimento_uf': 'str',\n",
       " 'vacina_grupoatendimento_nome': 'str',\n",
       " 'vacina_categoria_nome': 'str',\n",
       " 'vacina_lote': 'str',\n",
       " 'vacina_dataaplicacao': 'str',\n",
       " 'vacina_descricao_dose': 'str',\n",
       " 'vacina_nome': 'str',\n",
       " 'sistema_origem': 'str'}"
      ]
     },
     "execution_count": 7,
     "metadata": {},
     "output_type": "execute_result"
    }
   ],
   "source": [
    "FIELD_TYPE_LIST = dict((k.lower(), v.lower()) for k,v in FIELD_TYPE_LIST.items())\n",
    "\n",
    "FIELD_TYPE_LIST"
   ]
  },
  {
   "cell_type": "code",
   "execution_count": 8,
   "metadata": {},
   "outputs": [
    {
     "data": {
      "text/plain": [
       "['paciente_datanascimento', 'vacina_dataaplicacao', 'data_importacao_rnds']"
      ]
     },
     "execution_count": 8,
     "metadata": {},
     "output_type": "execute_result"
    }
   ],
   "source": [
    "COLUNAS_DATA"
   ]
  },
  {
   "cell_type": "code",
   "execution_count": 9,
   "metadata": {},
   "outputs": [
    {
     "name": "stdout",
     "output_type": "stream",
     "text": [
      "Processing... open-datasus_AC-2021_05_16.csv\n",
      "Processing... open-datasus_AL-2021_05_16.csv\n"
     ]
    }
   ],
   "source": [
    "\n",
    "for file in last_files[:2]:\n",
    "    print('Processing...', file)\n",
    "    for chunk in pd.read_csv(data_dir + file, sep=';', dtype=FIELD_TYPE_LIST, parse_dates=COLUNAS_DATA, chunksize=chunk_size):\n",
    "        chunk.to_sql(\n",
    "            name='staging',\n",
    "            con=engine,\n",
    "            if_exists='append',\n",
    "            index=False)\n"
   ]
  },
  {
   "cell_type": "code",
   "execution_count": 10,
   "metadata": {},
   "outputs": [
    {
     "data": {
      "text/plain": [
       "[{'nome': 'paciente_id',\n",
       "  'tipo': 'text',\n",
       "  'tipo_pandas': 'str',\n",
       "  'categorica': 0,\n",
       "  'distinct': 1,\n",
       "  'trim': 0},\n",
       " {'nome': 'paciente_idade',\n",
       "  'tipo': 'int',\n",
       "  'tipo_pandas': 'int64',\n",
       "  'categorica': 0,\n",
       "  'distinct': 1,\n",
       "  'trim': 0},\n",
       " {'nome': 'paciente_datanascimento',\n",
       "  'tipo': 'date',\n",
       "  'tipo_pandas': 'date',\n",
       "  'categorica': 0,\n",
       "  'distinct': 1,\n",
       "  'trim': 0},\n",
       " {'nome': 'paciente_enumsexobiologico',\n",
       "  'tipo': 'text',\n",
       "  'tipo_pandas': 'str',\n",
       "  'categorica': 0,\n",
       "  'distinct': 1,\n",
       "  'trim': 0},\n",
       " {'nome': 'paciente_racacor_valor',\n",
       "  'tipo': 'text',\n",
       "  'tipo_pandas': 'str',\n",
       "  'categorica': 1,\n",
       "  'distinct': 1,\n",
       "  'trim': 1},\n",
       " {'nome': 'paciente_endereco_coibgemunicipio',\n",
       "  'tipo': 'int',\n",
       "  'tipo_pandas': Int64Dtype(),\n",
       "  'categorica': 0,\n",
       "  'distinct': 1,\n",
       "  'trim': 0},\n",
       " {'nome': 'paciente_endereco_uf',\n",
       "  'tipo': 'text',\n",
       "  'tipo_pandas': 'str',\n",
       "  'categorica': 0,\n",
       "  'distinct': 1,\n",
       "  'trim': 0},\n",
       " {'nome': 'paciente_endereco_cep',\n",
       "  'tipo': 'double precision',\n",
       "  'tipo_pandas': Int64Dtype(),\n",
       "  'categorica': 0,\n",
       "  'distinct': 0,\n",
       "  'trim': 0},\n",
       " {'nome': 'paciente_nacionalidade_enumnacionalidade',\n",
       "  'tipo': 'text',\n",
       "  'tipo_pandas': 'str',\n",
       "  'categorica': 0,\n",
       "  'distinct': 1,\n",
       "  'trim': 1},\n",
       " {'nome': 'estabelecimento_valor',\n",
       "  'tipo': 'bigint',\n",
       "  'tipo_pandas': 'int64',\n",
       "  'categorica': 0,\n",
       "  'distinct': 1,\n",
       "  'trim': 0},\n",
       " {'nome': 'estabelecimento_razaosocial',\n",
       "  'tipo': 'text',\n",
       "  'tipo_pandas': 'str',\n",
       "  'categorica': 0,\n",
       "  'distinct': 1,\n",
       "  'trim': 1},\n",
       " {'nome': 'estalecimento_nofantasia',\n",
       "  'tipo': 'text',\n",
       "  'tipo_pandas': 'str',\n",
       "  'categorica': 0,\n",
       "  'distinct': 1,\n",
       "  'trim': 1},\n",
       " {'nome': 'estabelecimento_municipio_codigo',\n",
       "  'tipo': 'int',\n",
       "  'tipo_pandas': Int64Dtype(),\n",
       "  'categorica': 0,\n",
       "  'distinct': 1,\n",
       "  'trim': 0},\n",
       " {'nome': 'estabelecimento_uf',\n",
       "  'tipo': 'text',\n",
       "  'tipo_pandas': 'str',\n",
       "  'categorica': 0,\n",
       "  'distinct': 1,\n",
       "  'trim': 1},\n",
       " {'nome': 'vacina_grupoatendimento_nome',\n",
       "  'tipo': 'text',\n",
       "  'tipo_pandas': 'str',\n",
       "  'categorica': 1,\n",
       "  'distinct': 1,\n",
       "  'trim': 1},\n",
       " {'nome': 'vacina_categoria_codigo',\n",
       "  'tipo': 'double precision',\n",
       "  'tipo_pandas': Int64Dtype(),\n",
       "  'categorica': 0,\n",
       "  'distinct': 1,\n",
       "  'trim': 0},\n",
       " {'nome': 'vacina_categoria_nome',\n",
       "  'tipo': 'text',\n",
       "  'tipo_pandas': 'str',\n",
       "  'categorica': 0,\n",
       "  'distinct': 1,\n",
       "  'trim': 1},\n",
       " {'nome': 'vacina_dataaplicacao',\n",
       "  'tipo': 'date',\n",
       "  'tipo_pandas': 'date',\n",
       "  'categorica': 0,\n",
       "  'distinct': 1,\n",
       "  'trim': 0},\n",
       " {'nome': 'vacina_descricao_dose',\n",
       "  'tipo': 'text',\n",
       "  'tipo_pandas': 'str',\n",
       "  'categorica': 0,\n",
       "  'distinct': 1,\n",
       "  'trim': 1},\n",
       " {'nome': 'vacina_nome',\n",
       "  'tipo': 'text',\n",
       "  'tipo_pandas': 'str',\n",
       "  'categorica': 1,\n",
       "  'distinct': 1,\n",
       "  'trim': 1},\n",
       " {'nome': 'sistema_origem',\n",
       "  'tipo': 'text',\n",
       "  'tipo_pandas': 'str',\n",
       "  'categorica': 1,\n",
       "  'distinct': 0,\n",
       "  'trim': 1},\n",
       " {'nome': 'data_importacao_rnds',\n",
       "  'tipo': 'date',\n",
       "  'tipo_pandas': 'date',\n",
       "  'categorica': 0,\n",
       "  'distinct': 0,\n",
       "  'trim': 0}]"
      ]
     },
     "execution_count": 10,
     "metadata": {},
     "output_type": "execute_result"
    }
   ],
   "source": [
    "COLUNAS_VACINACAO"
   ]
  },
  {
   "cell_type": "markdown",
   "metadata": {},
   "source": [
    "## Limpa espaços (trim) de todos os campos string"
   ]
  },
  {
   "cell_type": "code",
   "execution_count": 11,
   "metadata": {},
   "outputs": [
    {
     "name": "stdout",
     "output_type": "stream",
     "text": [
      "\n",
      "    UPDATE staging SET \"paciente_racacor_valor\" = TRIM(\"paciente_racacor_valor\"), \"paciente_nacionalidade_enumnacionalidade\" = TRIM(\"paciente_nacionalidade_enumnacionalidade\"), \"estabelecimento_razaosocial\" = TRIM(\"estabelecimento_razaosocial\"), \"estalecimento_nofantasia\" = TRIM(\"estalecimento_nofantasia\"), \"estabelecimento_uf\" = TRIM(\"estabelecimento_uf\"), \"vacina_grupoatendimento_nome\" = TRIM(\"vacina_grupoatendimento_nome\"), \"vacina_categoria_nome\" = TRIM(\"vacina_categoria_nome\"), \"vacina_descricao_dose\" = TRIM(\"vacina_descricao_dose\"), \"vacina_nome\" = TRIM(\"vacina_nome\"), \"sistema_origem\" = TRIM(\"sistema_origem\")\n",
      "    ;\n",
      "    \n"
     ]
    }
   ],
   "source": [
    "sql = \"\"\"\n",
    "    UPDATE staging SET {to_trim}\n",
    "    ;\n",
    "    \"\"\".format(to_trim = ', '.join(['\"{col}\" = TRIM(\"{col}\")'.format(col=col['nome']) for col in COLUNAS_VACINACAO if col['trim']]))\n",
    "\n",
    "print(sql)"
   ]
  },
  {
   "cell_type": "code",
   "execution_count": 12,
   "metadata": {},
   "outputs": [],
   "source": [
    "with engine.connect() as con:\n",
    "    con.execute(sql)"
   ]
  },
  {
   "cell_type": "code",
   "execution_count": 13,
   "metadata": {},
   "outputs": [],
   "source": [
    "\n",
    "for col in COLUNAS_CATEGORICAS:\n",
    "    sql = \"\"\"\n",
    "    DROP TABLE IF EXISTS \"{col}\";\n",
    "    CREATE TABLE \"{col}\"(\n",
    "      \"id_{col}\" SMALLSERIAL,\n",
    "      \"{col}\" text  \n",
    "    );\n",
    "    \"\"\".format(col = col)\n",
    "    with engine.connect() as con:\n",
    "        con.execute(sql)\n",
    "    sql = \"\"\"\n",
    "    INSERT INTO \"{col}\" (\"{col}\")\n",
    "    SELECT DISTINCT \"{col}\" FROM staging WHERE \"{col}\" IS NOT NULL\n",
    "    \"\"\".format(col = col)\n",
    "    with engine.connect() as con:\n",
    "        con.execute(sql)"
   ]
  },
  {
   "cell_type": "code",
   "execution_count": null,
   "metadata": {},
   "outputs": [],
   "source": []
  }
 ],
 "metadata": {
  "hide_input": false,
  "kernelspec": {
   "display_name": "Python 3",
   "language": "python",
   "name": "python3"
  },
  "language_info": {
   "codemirror_mode": {
    "name": "ipython",
    "version": 3
   },
   "file_extension": ".py",
   "mimetype": "text/x-python",
   "name": "python",
   "nbconvert_exporter": "python",
   "pygments_lexer": "ipython3",
   "version": "3.7.3"
  },
  "toc": {
   "base_numbering": 1,
   "nav_menu": {},
   "number_sections": true,
   "sideBar": true,
   "skip_h1_title": false,
   "title_cell": "Table of Contents",
   "title_sidebar": "Contents",
   "toc_cell": false,
   "toc_position": {},
   "toc_section_display": true,
   "toc_window_display": false
  }
 },
 "nbformat": 4,
 "nbformat_minor": 2
}
